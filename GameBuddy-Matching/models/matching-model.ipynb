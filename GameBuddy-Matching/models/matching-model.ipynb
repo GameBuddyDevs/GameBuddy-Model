{
 "cells": [
  {
   "cell_type": "code",
   "execution_count": 1,
   "metadata": {},
   "outputs": [],
   "source": [
    "from sklearn.feature_extraction.text import TfidfVectorizer, CountVectorizer\n",
    "import pickle\n",
    "import os"
   ]
  },
  {
   "cell_type": "code",
   "execution_count": 16,
   "metadata": {},
   "outputs": [],
   "source": [
    "with open(\"../../GameBuddy-ModelApi/api/pickle/matching.pkl\", \"rb\") as f:\n",
    "    df_matching = pickle.load(f)"
   ]
  },
  {
   "cell_type": "code",
   "execution_count": 3,
   "metadata": {},
   "outputs": [],
   "source": [
    "with open(\"../../GameBuddy-ModelApi/api/pickle/games-encoded.pkl\", \"rb\") as f:\n",
    "    df_games_encoded = pickle.load(f)"
   ]
  },
  {
   "cell_type": "code",
   "execution_count": 4,
   "metadata": {},
   "outputs": [],
   "source": [
    "with open(\"../../GameBuddy-ModelApi/api/pickle/users.pkl\", \"rb\") as f:\n",
    "    df_users = pickle.load(f)"
   ]
  },
  {
   "cell_type": "code",
   "execution_count": 5,
   "metadata": {},
   "outputs": [],
   "source": [
    "user_index = '01984644-ce2d-11ed-afa1-0242ac120002'  # should get id from client in the server. Remember: Id is user's index\n",
    "user_cluster_id = df_matching.at[user_index, 'Cluster Score']"
   ]
  },
  {
   "cell_type": "code",
   "execution_count": 6,
   "metadata": {},
   "outputs": [
    {
     "data": {
      "text/html": [
       "<div>\n",
       "<style scoped>\n",
       "    .dataframe tbody tr th:only-of-type {\n",
       "        vertical-align: middle;\n",
       "    }\n",
       "\n",
       "    .dataframe tbody tr th {\n",
       "        vertical-align: top;\n",
       "    }\n",
       "\n",
       "    .dataframe thead th {\n",
       "        text-align: right;\n",
       "    }\n",
       "</style>\n",
       "<table border=\"1\" class=\"dataframe\">\n",
       "  <thead>\n",
       "    <tr style=\"text-align: right;\">\n",
       "      <th></th>\n",
       "      <th>Cluster Score</th>\n",
       "      <th>age</th>\n",
       "      <th>country</th>\n",
       "      <th>'07372f6c-817c-4d2a-af78-00458ba46526'</th>\n",
       "      <th>'07372f6c-817c-4d2a-af78-00458ba46526'</th>\n",
       "      <th>'07741e5b-9c3f-472d-a543-8932e6e4fcc4'</th>\n",
       "      <th>'07741e5b-9c3f-472d-a543-8932e6e4fcc4'</th>\n",
       "      <th>'07b5cf51-b45e-4080-9c07-e7172935d133'</th>\n",
       "      <th>'07b5cf51-b45e-4080-9c07-e7172935d133'</th>\n",
       "      <th>'089eea80-a3fa-44c6-be38-ef6b3ac555c7'</th>\n",
       "      <th>...</th>\n",
       "      <th>'b677d8ab-81ca-4813-9b16-faa1c9ccb91e'</th>\n",
       "      <th>'bdb863e8-cf32-440c-ad0a-e3961cd1cf7a'</th>\n",
       "      <th>'cbc3f46e-0bfd-42b1-8333-febddab9d936'</th>\n",
       "      <th>'cc23d815-9a1b-45f4-9202-a160f2aa2f15'</th>\n",
       "      <th>'d24a7b70-35ae-4bac-bbc5-3fd666c92958'</th>\n",
       "      <th>'daa07eb2-ec1f-4bbc-8c15-222f4495c4a6'</th>\n",
       "      <th>'e70bd205-316f-4589-87f2-17829cd42fe6'</th>\n",
       "      <th>'ed2b4e4b-a118-412f-8797-74a5afd7653b'</th>\n",
       "      <th>'f02de489-a4c5-4add-8f99-87a7ed808049'</th>\n",
       "      <th>'f9f0dd59-12ec-46c1-a0d6-32ca854e3fb3'</th>\n",
       "    </tr>\n",
       "    <tr>\n",
       "      <th>user_id</th>\n",
       "      <th></th>\n",
       "      <th></th>\n",
       "      <th></th>\n",
       "      <th></th>\n",
       "      <th></th>\n",
       "      <th></th>\n",
       "      <th></th>\n",
       "      <th></th>\n",
       "      <th></th>\n",
       "      <th></th>\n",
       "      <th></th>\n",
       "      <th></th>\n",
       "      <th></th>\n",
       "      <th></th>\n",
       "      <th></th>\n",
       "      <th></th>\n",
       "      <th></th>\n",
       "      <th></th>\n",
       "      <th></th>\n",
       "      <th></th>\n",
       "      <th></th>\n",
       "    </tr>\n",
       "  </thead>\n",
       "  <tbody>\n",
       "    <tr>\n",
       "      <th>01984644-ce2d-11ed-afa1-0242ac120002</th>\n",
       "      <td>7</td>\n",
       "      <td>46</td>\n",
       "      <td>9</td>\n",
       "      <td>0</td>\n",
       "      <td>0</td>\n",
       "      <td>0</td>\n",
       "      <td>0</td>\n",
       "      <td>0</td>\n",
       "      <td>0</td>\n",
       "      <td>0</td>\n",
       "      <td>...</td>\n",
       "      <td>0</td>\n",
       "      <td>0</td>\n",
       "      <td>0</td>\n",
       "      <td>0</td>\n",
       "      <td>0</td>\n",
       "      <td>0</td>\n",
       "      <td>0</td>\n",
       "      <td>0</td>\n",
       "      <td>0</td>\n",
       "      <td>0</td>\n",
       "    </tr>\n",
       "    <tr>\n",
       "      <th>01984932-ce2d-11ed-afa1-0242ac120002</th>\n",
       "      <td>8</td>\n",
       "      <td>20</td>\n",
       "      <td>92</td>\n",
       "      <td>0</td>\n",
       "      <td>0</td>\n",
       "      <td>0</td>\n",
       "      <td>0</td>\n",
       "      <td>0</td>\n",
       "      <td>0</td>\n",
       "      <td>0</td>\n",
       "      <td>...</td>\n",
       "      <td>0</td>\n",
       "      <td>0</td>\n",
       "      <td>0</td>\n",
       "      <td>0</td>\n",
       "      <td>0</td>\n",
       "      <td>0</td>\n",
       "      <td>0</td>\n",
       "      <td>0</td>\n",
       "      <td>0</td>\n",
       "      <td>0</td>\n",
       "    </tr>\n",
       "    <tr>\n",
       "      <th>01984a4a-ce2d-11ed-afa1-0242ac120002</th>\n",
       "      <td>1</td>\n",
       "      <td>15</td>\n",
       "      <td>57</td>\n",
       "      <td>0</td>\n",
       "      <td>0</td>\n",
       "      <td>0</td>\n",
       "      <td>0</td>\n",
       "      <td>0</td>\n",
       "      <td>0</td>\n",
       "      <td>0</td>\n",
       "      <td>...</td>\n",
       "      <td>0</td>\n",
       "      <td>0</td>\n",
       "      <td>0</td>\n",
       "      <td>0</td>\n",
       "      <td>0</td>\n",
       "      <td>0</td>\n",
       "      <td>0</td>\n",
       "      <td>0</td>\n",
       "      <td>0</td>\n",
       "      <td>0</td>\n",
       "    </tr>\n",
       "    <tr>\n",
       "      <th>01984b4e-ce2d-11ed-afa1-0242ac120002</th>\n",
       "      <td>10</td>\n",
       "      <td>29</td>\n",
       "      <td>135</td>\n",
       "      <td>0</td>\n",
       "      <td>0</td>\n",
       "      <td>0</td>\n",
       "      <td>0</td>\n",
       "      <td>0</td>\n",
       "      <td>0</td>\n",
       "      <td>0</td>\n",
       "      <td>...</td>\n",
       "      <td>0</td>\n",
       "      <td>0</td>\n",
       "      <td>0</td>\n",
       "      <td>1</td>\n",
       "      <td>0</td>\n",
       "      <td>0</td>\n",
       "      <td>0</td>\n",
       "      <td>0</td>\n",
       "      <td>0</td>\n",
       "      <td>0</td>\n",
       "    </tr>\n",
       "    <tr>\n",
       "      <th>01984c48-ce2d-11ed-afa1-0242ac120002</th>\n",
       "      <td>2</td>\n",
       "      <td>47</td>\n",
       "      <td>64</td>\n",
       "      <td>0</td>\n",
       "      <td>0</td>\n",
       "      <td>0</td>\n",
       "      <td>0</td>\n",
       "      <td>0</td>\n",
       "      <td>0</td>\n",
       "      <td>0</td>\n",
       "      <td>...</td>\n",
       "      <td>0</td>\n",
       "      <td>0</td>\n",
       "      <td>0</td>\n",
       "      <td>0</td>\n",
       "      <td>0</td>\n",
       "      <td>0</td>\n",
       "      <td>0</td>\n",
       "      <td>0</td>\n",
       "      <td>0</td>\n",
       "      <td>0</td>\n",
       "    </tr>\n",
       "  </tbody>\n",
       "</table>\n",
       "<p>5 rows × 297 columns</p>\n",
       "</div>"
      ],
      "text/plain": [
       "                                      Cluster Score  age  country  \\\n",
       "user_id                                                             \n",
       "01984644-ce2d-11ed-afa1-0242ac120002              7   46        9   \n",
       "01984932-ce2d-11ed-afa1-0242ac120002              8   20       92   \n",
       "01984a4a-ce2d-11ed-afa1-0242ac120002              1   15       57   \n",
       "01984b4e-ce2d-11ed-afa1-0242ac120002             10   29      135   \n",
       "01984c48-ce2d-11ed-afa1-0242ac120002              2   47       64   \n",
       "\n",
       "                                       '07372f6c-817c-4d2a-af78-00458ba46526'  \\\n",
       "user_id                                                                         \n",
       "01984644-ce2d-11ed-afa1-0242ac120002                                        0   \n",
       "01984932-ce2d-11ed-afa1-0242ac120002                                        0   \n",
       "01984a4a-ce2d-11ed-afa1-0242ac120002                                        0   \n",
       "01984b4e-ce2d-11ed-afa1-0242ac120002                                        0   \n",
       "01984c48-ce2d-11ed-afa1-0242ac120002                                        0   \n",
       "\n",
       "                                       '07372f6c-817c-4d2a-af78-00458ba46526'  \\\n",
       "user_id                                                                         \n",
       "01984644-ce2d-11ed-afa1-0242ac120002                                        0   \n",
       "01984932-ce2d-11ed-afa1-0242ac120002                                        0   \n",
       "01984a4a-ce2d-11ed-afa1-0242ac120002                                        0   \n",
       "01984b4e-ce2d-11ed-afa1-0242ac120002                                        0   \n",
       "01984c48-ce2d-11ed-afa1-0242ac120002                                        0   \n",
       "\n",
       "                                       '07741e5b-9c3f-472d-a543-8932e6e4fcc4'  \\\n",
       "user_id                                                                         \n",
       "01984644-ce2d-11ed-afa1-0242ac120002                                        0   \n",
       "01984932-ce2d-11ed-afa1-0242ac120002                                        0   \n",
       "01984a4a-ce2d-11ed-afa1-0242ac120002                                        0   \n",
       "01984b4e-ce2d-11ed-afa1-0242ac120002                                        0   \n",
       "01984c48-ce2d-11ed-afa1-0242ac120002                                        0   \n",
       "\n",
       "                                       '07741e5b-9c3f-472d-a543-8932e6e4fcc4'  \\\n",
       "user_id                                                                         \n",
       "01984644-ce2d-11ed-afa1-0242ac120002                                        0   \n",
       "01984932-ce2d-11ed-afa1-0242ac120002                                        0   \n",
       "01984a4a-ce2d-11ed-afa1-0242ac120002                                        0   \n",
       "01984b4e-ce2d-11ed-afa1-0242ac120002                                        0   \n",
       "01984c48-ce2d-11ed-afa1-0242ac120002                                        0   \n",
       "\n",
       "                                       '07b5cf51-b45e-4080-9c07-e7172935d133'  \\\n",
       "user_id                                                                         \n",
       "01984644-ce2d-11ed-afa1-0242ac120002                                        0   \n",
       "01984932-ce2d-11ed-afa1-0242ac120002                                        0   \n",
       "01984a4a-ce2d-11ed-afa1-0242ac120002                                        0   \n",
       "01984b4e-ce2d-11ed-afa1-0242ac120002                                        0   \n",
       "01984c48-ce2d-11ed-afa1-0242ac120002                                        0   \n",
       "\n",
       "                                       '07b5cf51-b45e-4080-9c07-e7172935d133'  \\\n",
       "user_id                                                                         \n",
       "01984644-ce2d-11ed-afa1-0242ac120002                                        0   \n",
       "01984932-ce2d-11ed-afa1-0242ac120002                                        0   \n",
       "01984a4a-ce2d-11ed-afa1-0242ac120002                                        0   \n",
       "01984b4e-ce2d-11ed-afa1-0242ac120002                                        0   \n",
       "01984c48-ce2d-11ed-afa1-0242ac120002                                        0   \n",
       "\n",
       "                                       '089eea80-a3fa-44c6-be38-ef6b3ac555c7'  \\\n",
       "user_id                                                                         \n",
       "01984644-ce2d-11ed-afa1-0242ac120002                                        0   \n",
       "01984932-ce2d-11ed-afa1-0242ac120002                                        0   \n",
       "01984a4a-ce2d-11ed-afa1-0242ac120002                                        0   \n",
       "01984b4e-ce2d-11ed-afa1-0242ac120002                                        0   \n",
       "01984c48-ce2d-11ed-afa1-0242ac120002                                        0   \n",
       "\n",
       "                                      ...  \\\n",
       "user_id                               ...   \n",
       "01984644-ce2d-11ed-afa1-0242ac120002  ...   \n",
       "01984932-ce2d-11ed-afa1-0242ac120002  ...   \n",
       "01984a4a-ce2d-11ed-afa1-0242ac120002  ...   \n",
       "01984b4e-ce2d-11ed-afa1-0242ac120002  ...   \n",
       "01984c48-ce2d-11ed-afa1-0242ac120002  ...   \n",
       "\n",
       "                                      'b677d8ab-81ca-4813-9b16-faa1c9ccb91e'  \\\n",
       "user_id                                                                        \n",
       "01984644-ce2d-11ed-afa1-0242ac120002                                       0   \n",
       "01984932-ce2d-11ed-afa1-0242ac120002                                       0   \n",
       "01984a4a-ce2d-11ed-afa1-0242ac120002                                       0   \n",
       "01984b4e-ce2d-11ed-afa1-0242ac120002                                       0   \n",
       "01984c48-ce2d-11ed-afa1-0242ac120002                                       0   \n",
       "\n",
       "                                      'bdb863e8-cf32-440c-ad0a-e3961cd1cf7a'  \\\n",
       "user_id                                                                        \n",
       "01984644-ce2d-11ed-afa1-0242ac120002                                       0   \n",
       "01984932-ce2d-11ed-afa1-0242ac120002                                       0   \n",
       "01984a4a-ce2d-11ed-afa1-0242ac120002                                       0   \n",
       "01984b4e-ce2d-11ed-afa1-0242ac120002                                       0   \n",
       "01984c48-ce2d-11ed-afa1-0242ac120002                                       0   \n",
       "\n",
       "                                      'cbc3f46e-0bfd-42b1-8333-febddab9d936'  \\\n",
       "user_id                                                                        \n",
       "01984644-ce2d-11ed-afa1-0242ac120002                                       0   \n",
       "01984932-ce2d-11ed-afa1-0242ac120002                                       0   \n",
       "01984a4a-ce2d-11ed-afa1-0242ac120002                                       0   \n",
       "01984b4e-ce2d-11ed-afa1-0242ac120002                                       0   \n",
       "01984c48-ce2d-11ed-afa1-0242ac120002                                       0   \n",
       "\n",
       "                                      'cc23d815-9a1b-45f4-9202-a160f2aa2f15'  \\\n",
       "user_id                                                                        \n",
       "01984644-ce2d-11ed-afa1-0242ac120002                                       0   \n",
       "01984932-ce2d-11ed-afa1-0242ac120002                                       0   \n",
       "01984a4a-ce2d-11ed-afa1-0242ac120002                                       0   \n",
       "01984b4e-ce2d-11ed-afa1-0242ac120002                                       1   \n",
       "01984c48-ce2d-11ed-afa1-0242ac120002                                       0   \n",
       "\n",
       "                                      'd24a7b70-35ae-4bac-bbc5-3fd666c92958'  \\\n",
       "user_id                                                                        \n",
       "01984644-ce2d-11ed-afa1-0242ac120002                                       0   \n",
       "01984932-ce2d-11ed-afa1-0242ac120002                                       0   \n",
       "01984a4a-ce2d-11ed-afa1-0242ac120002                                       0   \n",
       "01984b4e-ce2d-11ed-afa1-0242ac120002                                       0   \n",
       "01984c48-ce2d-11ed-afa1-0242ac120002                                       0   \n",
       "\n",
       "                                      'daa07eb2-ec1f-4bbc-8c15-222f4495c4a6'  \\\n",
       "user_id                                                                        \n",
       "01984644-ce2d-11ed-afa1-0242ac120002                                       0   \n",
       "01984932-ce2d-11ed-afa1-0242ac120002                                       0   \n",
       "01984a4a-ce2d-11ed-afa1-0242ac120002                                       0   \n",
       "01984b4e-ce2d-11ed-afa1-0242ac120002                                       0   \n",
       "01984c48-ce2d-11ed-afa1-0242ac120002                                       0   \n",
       "\n",
       "                                      'e70bd205-316f-4589-87f2-17829cd42fe6'  \\\n",
       "user_id                                                                        \n",
       "01984644-ce2d-11ed-afa1-0242ac120002                                       0   \n",
       "01984932-ce2d-11ed-afa1-0242ac120002                                       0   \n",
       "01984a4a-ce2d-11ed-afa1-0242ac120002                                       0   \n",
       "01984b4e-ce2d-11ed-afa1-0242ac120002                                       0   \n",
       "01984c48-ce2d-11ed-afa1-0242ac120002                                       0   \n",
       "\n",
       "                                      'ed2b4e4b-a118-412f-8797-74a5afd7653b'  \\\n",
       "user_id                                                                        \n",
       "01984644-ce2d-11ed-afa1-0242ac120002                                       0   \n",
       "01984932-ce2d-11ed-afa1-0242ac120002                                       0   \n",
       "01984a4a-ce2d-11ed-afa1-0242ac120002                                       0   \n",
       "01984b4e-ce2d-11ed-afa1-0242ac120002                                       0   \n",
       "01984c48-ce2d-11ed-afa1-0242ac120002                                       0   \n",
       "\n",
       "                                      'f02de489-a4c5-4add-8f99-87a7ed808049'  \\\n",
       "user_id                                                                        \n",
       "01984644-ce2d-11ed-afa1-0242ac120002                                       0   \n",
       "01984932-ce2d-11ed-afa1-0242ac120002                                       0   \n",
       "01984a4a-ce2d-11ed-afa1-0242ac120002                                       0   \n",
       "01984b4e-ce2d-11ed-afa1-0242ac120002                                       0   \n",
       "01984c48-ce2d-11ed-afa1-0242ac120002                                       0   \n",
       "\n",
       "                                      'f9f0dd59-12ec-46c1-a0d6-32ca854e3fb3'  \n",
       "user_id                                                                       \n",
       "01984644-ce2d-11ed-afa1-0242ac120002                                       0  \n",
       "01984932-ce2d-11ed-afa1-0242ac120002                                       0  \n",
       "01984a4a-ce2d-11ed-afa1-0242ac120002                                       0  \n",
       "01984b4e-ce2d-11ed-afa1-0242ac120002                                       0  \n",
       "01984c48-ce2d-11ed-afa1-0242ac120002                                       0  \n",
       "\n",
       "[5 rows x 297 columns]"
      ]
     },
     "execution_count": 6,
     "metadata": {},
     "output_type": "execute_result"
    }
   ],
   "source": [
    "df_matching.head()"
   ]
  },
  {
   "cell_type": "code",
   "execution_count": 7,
   "metadata": {},
   "outputs": [],
   "source": [
    "vectorizer = CountVectorizer()"
   ]
  },
  {
   "cell_type": "code",
   "execution_count": 8,
   "metadata": {},
   "outputs": [
    {
     "name": "stdout",
     "output_type": "stream",
     "text": [
      "User index:  01984644-ce2d-11ed-afa1-0242ac120002\n",
      "User cluster id:  7\n",
      "<class 'pandas.core.frame.DataFrame'>\n",
      "user_id                               01984644-ce2d-11ed-afa1-0242ac120002\n",
      "user_id                                                                   \n",
      "212d1fde-ce2d-11ed-afa1-0242ac120002                              0.989703\n",
      "019be06a-ce2d-11ed-afa1-0242ac120002                              0.987982\n",
      "212a8602-ce2d-11ed-afa1-0242ac120002                              0.986845\n",
      "17d01270-ce2d-11ed-afa1-0242ac120002                              0.981997\n",
      "212aaf74-ce2d-11ed-afa1-0242ac120002                              0.980152\n",
      "...                                                                    ...\n",
      "30daa212-ce2d-11ed-afa1-0242ac120002                              0.413266\n",
      "019bcb16-ce2d-11ed-afa1-0242ac120002                              0.408878\n",
      "01999cc4-ce2d-11ed-afa1-0242ac120002                              0.408718\n",
      "17d0d110-ce2d-11ed-afa1-0242ac120002                              0.407775\n",
      "019af254-ce2d-11ed-afa1-0242ac120002                              0.404792\n",
      "\n",
      "[100 rows x 1 columns]\n"
     ]
    }
   ],
   "source": [
    "print(\"User index: \", user_index)\n",
    "print(\"User cluster id: \", user_cluster_id)\n",
    "group = df_matching[df_matching['Cluster Score'] == user_cluster_id].drop('Cluster Score', axis=1)\n",
    "group = group.join(df_games_encoded, how='inner', lsuffix='_left', rsuffix='_right')\n",
    "corr_group = group.T.corr()\n",
    "\n",
    "# Creating a df with the top 10 most similar users to the selected user\n",
    "top_sim = corr_group[[user_index]].sort_values(by=[user_index],axis=0, ascending=False)[1:101]\n",
    "print(type(top_sim))\n",
    "print(top_sim)"
   ]
  },
  {
   "cell_type": "code",
   "execution_count": 9,
   "metadata": {},
   "outputs": [
    {
     "data": {
      "text/plain": [
       "Index(['01984644-ce2d-11ed-afa1-0242ac120002'], dtype='object', name='user_id')"
      ]
     },
     "execution_count": 9,
     "metadata": {},
     "output_type": "execute_result"
    }
   ],
   "source": [
    "top_sim.columns"
   ]
  },
  {
   "cell_type": "code",
   "execution_count": 10,
   "metadata": {},
   "outputs": [
    {
     "data": {
      "text/html": [
       "<div>\n",
       "<style scoped>\n",
       "    .dataframe tbody tr th:only-of-type {\n",
       "        vertical-align: middle;\n",
       "    }\n",
       "\n",
       "    .dataframe tbody tr th {\n",
       "        vertical-align: top;\n",
       "    }\n",
       "\n",
       "    .dataframe thead th {\n",
       "        text-align: right;\n",
       "    }\n",
       "</style>\n",
       "<table border=\"1\" class=\"dataframe\">\n",
       "  <thead>\n",
       "    <tr style=\"text-align: right;\">\n",
       "      <th>user_id</th>\n",
       "      <th>01984644-ce2d-11ed-afa1-0242ac120002</th>\n",
       "    </tr>\n",
       "    <tr>\n",
       "      <th>user_id</th>\n",
       "      <th></th>\n",
       "    </tr>\n",
       "  </thead>\n",
       "  <tbody>\n",
       "    <tr>\n",
       "      <th>212d1fde-ce2d-11ed-afa1-0242ac120002</th>\n",
       "      <td>0.989703</td>\n",
       "    </tr>\n",
       "    <tr>\n",
       "      <th>019be06a-ce2d-11ed-afa1-0242ac120002</th>\n",
       "      <td>0.987982</td>\n",
       "    </tr>\n",
       "    <tr>\n",
       "      <th>212a8602-ce2d-11ed-afa1-0242ac120002</th>\n",
       "      <td>0.986845</td>\n",
       "    </tr>\n",
       "  </tbody>\n",
       "</table>\n",
       "</div>"
      ],
      "text/plain": [
       "user_id                               01984644-ce2d-11ed-afa1-0242ac120002\n",
       "user_id                                                                   \n",
       "212d1fde-ce2d-11ed-afa1-0242ac120002                              0.989703\n",
       "019be06a-ce2d-11ed-afa1-0242ac120002                              0.987982\n",
       "212a8602-ce2d-11ed-afa1-0242ac120002                              0.986845"
      ]
     },
     "execution_count": 10,
     "metadata": {},
     "output_type": "execute_result"
    }
   ],
   "source": [
    "#for index, row in top_sim.iterrows():\n",
    "    #print(top_sim.loc[index][1])\n",
    "    #top_sim.loc[index][\"username\"] = df_users.loc[index][1]\n",
    "    \n",
    "top_sim.head(3)"
   ]
  },
  {
   "cell_type": "code",
   "execution_count": 11,
   "metadata": {},
   "outputs": [
    {
     "data": {
      "text/plain": [
       "'for index, row in top_sim.iterrows():\\n    print(df_users.iloc[index], row[user_index], index) #return this'"
      ]
     },
     "execution_count": 11,
     "metadata": {},
     "output_type": "execute_result"
    }
   ],
   "source": [
    "# print top_sim with user's name that match indexes\n",
    "\"\"\"for index, row in top_sim.iterrows():\n",
    "    print(df_users.iloc[index], row[user_index], index) #return this\"\"\""
   ]
  },
  {
   "cell_type": "code",
   "execution_count": 12,
   "metadata": {},
   "outputs": [
    {
     "data": {
      "text/plain": [
       "Index(['01984644-ce2d-11ed-afa1-0242ac120002'], dtype='object', name='user_id')"
      ]
     },
     "execution_count": 12,
     "metadata": {},
     "output_type": "execute_result"
    }
   ],
   "source": [
    "top_sim.columns"
   ]
  },
  {
   "cell_type": "code",
   "execution_count": 13,
   "metadata": {},
   "outputs": [
    {
     "data": {
      "text/plain": [
       "user_id\n",
       "01984644-ce2d-11ed-afa1-0242ac120002    30d8d694-ce2d-11ed-afa1-0242ac120002\n",
       "01984932-ce2d-11ed-afa1-0242ac120002    41d85ea6-ce2d-11ed-afa1-0242ac120002\n",
       "01984a4a-ce2d-11ed-afa1-0242ac120002    41d86f90-ce2d-11ed-afa1-0242ac120002\n",
       "01984b4e-ce2d-11ed-afa1-0242ac120002    30d9dac6-ce2d-11ed-afa1-0242ac120002\n",
       "01984c48-ce2d-11ed-afa1-0242ac120002    019a46ce-ce2d-11ed-afa1-0242ac120002\n",
       "                                                        ...                 \n",
       "41d8ad0c-ce2d-11ed-afa1-0242ac120002    17d2de60-ce2d-11ed-afa1-0242ac120002\n",
       "41d8b5a4-ce2d-11ed-afa1-0242ac120002    41d84b50-ce2d-11ed-afa1-0242ac120002\n",
       "41d8c04e-ce2d-11ed-afa1-0242ac120002    019b8584-ce2d-11ed-afa1-0242ac120002\n",
       "41d8cdd2-ce2d-11ed-afa1-0242ac120002    17d15cac-ce2d-11ed-afa1-0242ac120002\n",
       "41d8e614-ce2d-11ed-afa1-0242ac120002    17d27524-ce2d-11ed-afa1-0242ac120002\n",
       "Name: matched_user, Length: 2199, dtype: object"
      ]
     },
     "execution_count": 13,
     "metadata": {},
     "output_type": "execute_result"
    }
   ],
   "source": [
    "df_users"
   ]
  },
  {
   "cell_type": "code",
   "execution_count": 14,
   "metadata": {},
   "outputs": [
    {
     "data": {
      "text/plain": [
       "pandas.core.frame.DataFrame"
      ]
     },
     "execution_count": 14,
     "metadata": {},
     "output_type": "execute_result"
    }
   ],
   "source": [
    "type(top_sim)"
   ]
  }
 ],
 "metadata": {
  "kernelspec": {
   "display_name": "gamebuddy-env",
   "language": "python",
   "name": "python3"
  },
  "language_info": {
   "codemirror_mode": {
    "name": "ipython",
    "version": 3
   },
   "file_extension": ".py",
   "mimetype": "text/x-python",
   "name": "python",
   "nbconvert_exporter": "python",
   "pygments_lexer": "ipython3",
   "version": "3.9.12"
  },
  "orig_nbformat": 4
 },
 "nbformat": 4,
 "nbformat_minor": 2
}
