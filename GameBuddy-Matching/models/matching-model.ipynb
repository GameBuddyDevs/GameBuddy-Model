{
 "cells": [
  {
   "cell_type": "code",
   "execution_count": 54,
   "metadata": {},
   "outputs": [],
   "source": [
    "from sklearn.feature_extraction.text import TfidfVectorizer, CountVectorizer\n",
    "import pickle\n",
    "import os"
   ]
  },
  {
   "cell_type": "code",
   "execution_count": 55,
   "metadata": {},
   "outputs": [],
   "source": [
    "with open(\"/Users/burak/Developer/MachineLearning/GameBuddy/GameBuddy-ModelApi/api/pickle/matching.pkl\", \"rb\") as f:\n",
    "    df_matching = pickle.load(f)"
   ]
  },
  {
   "cell_type": "code",
   "execution_count": 56,
   "metadata": {},
   "outputs": [],
   "source": [
    "with open(\"/Users/burak/Developer/MachineLearning/GameBuddy/GameBuddy-ModelApi/api/pickle/games-encoded.pkl\", \"rb\") as f:\n",
    "    df_games_encoded = pickle.load(f)"
   ]
  },
  {
   "cell_type": "code",
   "execution_count": 57,
   "metadata": {},
   "outputs": [],
   "source": [
    "with open(\"/Users/burak/Developer/MachineLearning/GameBuddy/GameBuddy-ModelApi/api/pickle/users.pkl\", \"rb\") as f:\n",
    "    df_users = pickle.load(f)"
   ]
  },
  {
   "cell_type": "code",
   "execution_count": 58,
   "metadata": {},
   "outputs": [],
   "source": [
    "user_index = 1  # should get id from client in the server. Remember: Id is user's index\n",
    "user_cluster_id = df_matching.iloc[user_index]['Cluster Score']"
   ]
  },
  {
   "cell_type": "code",
   "execution_count": 59,
   "metadata": {},
   "outputs": [
    {
     "data": {
      "text/html": [
       "<div>\n",
       "<style scoped>\n",
       "    .dataframe tbody tr th:only-of-type {\n",
       "        vertical-align: middle;\n",
       "    }\n",
       "\n",
       "    .dataframe tbody tr th {\n",
       "        vertical-align: top;\n",
       "    }\n",
       "\n",
       "    .dataframe thead th {\n",
       "        text-align: right;\n",
       "    }\n",
       "</style>\n",
       "<table border=\"1\" class=\"dataframe\">\n",
       "  <thead>\n",
       "    <tr style=\"text-align: right;\">\n",
       "      <th></th>\n",
       "      <th>Cluster Score</th>\n",
       "      <th>age</th>\n",
       "      <th>country</th>\n",
       "      <th>\"Agatha Christie's The ABC Murders\"</th>\n",
       "      <th>\"Alan Wake's American Nightmare\"</th>\n",
       "      <th>\"Alekhine's Gun\"</th>\n",
       "      <th>\"Assassin's Creed Chronicles: China\"</th>\n",
       "      <th>\"Assassin's Creed Chronicles: Russia\"</th>\n",
       "      <th>\"Assassin's Creed III\"</th>\n",
       "      <th>\"Assassin's Creed III: Liberation\"</th>\n",
       "      <th>...</th>\n",
       "      <th>'psgamer'</th>\n",
       "      <th>'puzzle'</th>\n",
       "      <th>'rage god'</th>\n",
       "      <th>'relax'</th>\n",
       "      <th>'rogue-like'</th>\n",
       "      <th>'stealth'</th>\n",
       "      <th>'survival'</th>\n",
       "      <th>'swearing'</th>\n",
       "      <th>'vr gamer'</th>\n",
       "      <th>'xboxgamer'</th>\n",
       "    </tr>\n",
       "  </thead>\n",
       "  <tbody>\n",
       "    <tr>\n",
       "      <th>0</th>\n",
       "      <td>7</td>\n",
       "      <td>22</td>\n",
       "      <td>0</td>\n",
       "      <td>0</td>\n",
       "      <td>0</td>\n",
       "      <td>0</td>\n",
       "      <td>0</td>\n",
       "      <td>0</td>\n",
       "      <td>0</td>\n",
       "      <td>0</td>\n",
       "      <td>...</td>\n",
       "      <td>0</td>\n",
       "      <td>0</td>\n",
       "      <td>0</td>\n",
       "      <td>0</td>\n",
       "      <td>0</td>\n",
       "      <td>1</td>\n",
       "      <td>0</td>\n",
       "      <td>0</td>\n",
       "      <td>0</td>\n",
       "      <td>0</td>\n",
       "    </tr>\n",
       "    <tr>\n",
       "      <th>1</th>\n",
       "      <td>1</td>\n",
       "      <td>42</td>\n",
       "      <td>0</td>\n",
       "      <td>0</td>\n",
       "      <td>0</td>\n",
       "      <td>0</td>\n",
       "      <td>0</td>\n",
       "      <td>0</td>\n",
       "      <td>0</td>\n",
       "      <td>0</td>\n",
       "      <td>...</td>\n",
       "      <td>0</td>\n",
       "      <td>0</td>\n",
       "      <td>0</td>\n",
       "      <td>0</td>\n",
       "      <td>0</td>\n",
       "      <td>0</td>\n",
       "      <td>0</td>\n",
       "      <td>0</td>\n",
       "      <td>0</td>\n",
       "      <td>0</td>\n",
       "    </tr>\n",
       "    <tr>\n",
       "      <th>2</th>\n",
       "      <td>2</td>\n",
       "      <td>59</td>\n",
       "      <td>0</td>\n",
       "      <td>0</td>\n",
       "      <td>0</td>\n",
       "      <td>0</td>\n",
       "      <td>0</td>\n",
       "      <td>0</td>\n",
       "      <td>0</td>\n",
       "      <td>0</td>\n",
       "      <td>...</td>\n",
       "      <td>0</td>\n",
       "      <td>0</td>\n",
       "      <td>1</td>\n",
       "      <td>0</td>\n",
       "      <td>0</td>\n",
       "      <td>0</td>\n",
       "      <td>0</td>\n",
       "      <td>0</td>\n",
       "      <td>0</td>\n",
       "      <td>0</td>\n",
       "    </tr>\n",
       "    <tr>\n",
       "      <th>3</th>\n",
       "      <td>17</td>\n",
       "      <td>12</td>\n",
       "      <td>0</td>\n",
       "      <td>0</td>\n",
       "      <td>0</td>\n",
       "      <td>0</td>\n",
       "      <td>0</td>\n",
       "      <td>0</td>\n",
       "      <td>0</td>\n",
       "      <td>0</td>\n",
       "      <td>...</td>\n",
       "      <td>0</td>\n",
       "      <td>0</td>\n",
       "      <td>0</td>\n",
       "      <td>0</td>\n",
       "      <td>0</td>\n",
       "      <td>0</td>\n",
       "      <td>0</td>\n",
       "      <td>0</td>\n",
       "      <td>0</td>\n",
       "      <td>0</td>\n",
       "    </tr>\n",
       "    <tr>\n",
       "      <th>4</th>\n",
       "      <td>1</td>\n",
       "      <td>57</td>\n",
       "      <td>0</td>\n",
       "      <td>0</td>\n",
       "      <td>0</td>\n",
       "      <td>0</td>\n",
       "      <td>0</td>\n",
       "      <td>0</td>\n",
       "      <td>0</td>\n",
       "      <td>0</td>\n",
       "      <td>...</td>\n",
       "      <td>0</td>\n",
       "      <td>0</td>\n",
       "      <td>0</td>\n",
       "      <td>0</td>\n",
       "      <td>0</td>\n",
       "      <td>0</td>\n",
       "      <td>0</td>\n",
       "      <td>0</td>\n",
       "      <td>0</td>\n",
       "      <td>0</td>\n",
       "    </tr>\n",
       "  </tbody>\n",
       "</table>\n",
       "<p>5 rows × 3807 columns</p>\n",
       "</div>"
      ],
      "text/plain": [
       "   Cluster Score  age  country   \"Agatha Christie's The ABC Murders\"  \\\n",
       "0              7   22        0                                     0   \n",
       "1              1   42        0                                     0   \n",
       "2              2   59        0                                     0   \n",
       "3             17   12        0                                     0   \n",
       "4              1   57        0                                     0   \n",
       "\n",
       "    \"Alan Wake's American Nightmare\"   \"Alekhine's Gun\"  \\\n",
       "0                                  0                  0   \n",
       "1                                  0                  0   \n",
       "2                                  0                  0   \n",
       "3                                  0                  0   \n",
       "4                                  0                  0   \n",
       "\n",
       "    \"Assassin's Creed Chronicles: China\"  \\\n",
       "0                                      0   \n",
       "1                                      0   \n",
       "2                                      0   \n",
       "3                                      0   \n",
       "4                                      0   \n",
       "\n",
       "    \"Assassin's Creed Chronicles: Russia\"   \"Assassin's Creed III\"  \\\n",
       "0                                       0                        0   \n",
       "1                                       0                        0   \n",
       "2                                       0                        0   \n",
       "3                                       0                        0   \n",
       "4                                       0                        0   \n",
       "\n",
       "    \"Assassin's Creed III: Liberation\"  ...  'psgamer'  'puzzle'  'rage god'  \\\n",
       "0                                    0  ...          0         0           0   \n",
       "1                                    0  ...          0         0           0   \n",
       "2                                    0  ...          0         0           1   \n",
       "3                                    0  ...          0         0           0   \n",
       "4                                    0  ...          0         0           0   \n",
       "\n",
       "   'relax'  'rogue-like'  'stealth'  'survival'  'swearing'  'vr gamer'  \\\n",
       "0        0             0          1           0           0           0   \n",
       "1        0             0          0           0           0           0   \n",
       "2        0             0          0           0           0           0   \n",
       "3        0             0          0           0           0           0   \n",
       "4        0             0          0           0           0           0   \n",
       "\n",
       "   'xboxgamer'  \n",
       "0            0  \n",
       "1            0  \n",
       "2            0  \n",
       "3            0  \n",
       "4            0  \n",
       "\n",
       "[5 rows x 3807 columns]"
      ]
     },
     "execution_count": 59,
     "metadata": {},
     "output_type": "execute_result"
    }
   ],
   "source": [
    "df_matching.head()"
   ]
  },
  {
   "cell_type": "code",
   "execution_count": 60,
   "metadata": {},
   "outputs": [],
   "source": [
    "vectorizer = CountVectorizer()"
   ]
  },
  {
   "cell_type": "code",
   "execution_count": 61,
   "metadata": {},
   "outputs": [
    {
     "name": "stdout",
     "output_type": "stream",
     "text": [
      "User index:  1\n",
      "User cluster id:  1\n",
      "<class 'pandas.core.frame.DataFrame'>\n",
      "            1\n",
      "268  0.993678\n",
      "915  0.993161\n",
      "170  0.992813\n",
      "607  0.992724\n",
      "4    0.992684\n",
      "..        ...\n",
      "991  0.961467\n",
      "519  0.960560\n",
      "963  0.957383\n",
      "367  0.938095\n",
      "439  0.917173\n",
      "\n",
      "[78 rows x 1 columns]\n"
     ]
    }
   ],
   "source": [
    "print(\"User index: \", user_index)\n",
    "print(\"User cluster id: \", user_cluster_id)\n",
    "group = df_matching[df_matching['Cluster Score'] == user_cluster_id].drop('Cluster Score', axis=1)\n",
    "group = group.join(df_games_encoded, how='inner', lsuffix='_left', rsuffix='_right')\n",
    "corr_group = group.T.corr()\n",
    "\n",
    "# Creating a df with the top 10 most similar users to the selected user\n",
    "top_sim = corr_group[[user_index]].sort_values(by=[user_index],axis=0, ascending=False)[1:101]\n",
    "print(type(top_sim))\n",
    "print(top_sim)"
   ]
  },
  {
   "cell_type": "code",
   "execution_count": 78,
   "metadata": {},
   "outputs": [
    {
     "data": {
      "text/plain": [
       "Int64Index([1], dtype='int64')"
      ]
     },
     "execution_count": 78,
     "metadata": {},
     "output_type": "execute_result"
    }
   ],
   "source": [
    "top_sim.columns"
   ]
  },
  {
   "cell_type": "code",
   "execution_count": 91,
   "metadata": {},
   "outputs": [
    {
     "data": {
      "text/html": [
       "<div>\n",
       "<style scoped>\n",
       "    .dataframe tbody tr th:only-of-type {\n",
       "        vertical-align: middle;\n",
       "    }\n",
       "\n",
       "    .dataframe tbody tr th {\n",
       "        vertical-align: top;\n",
       "    }\n",
       "\n",
       "    .dataframe thead th {\n",
       "        text-align: right;\n",
       "    }\n",
       "</style>\n",
       "<table border=\"1\" class=\"dataframe\">\n",
       "  <thead>\n",
       "    <tr style=\"text-align: right;\">\n",
       "      <th></th>\n",
       "      <th>1</th>\n",
       "      <th>username</th>\n",
       "    </tr>\n",
       "  </thead>\n",
       "  <tbody>\n",
       "    <tr>\n",
       "      <th>268</th>\n",
       "      <td>0.993678</td>\n",
       "      <td>Turn_Left</td>\n",
       "    </tr>\n",
       "    <tr>\n",
       "      <th>915</th>\n",
       "      <td>0.993161</td>\n",
       "      <td>rav_a</td>\n",
       "    </tr>\n",
       "    <tr>\n",
       "      <th>170</th>\n",
       "      <td>0.992813</td>\n",
       "      <td>elcunardo</td>\n",
       "    </tr>\n",
       "  </tbody>\n",
       "</table>\n",
       "</div>"
      ],
      "text/plain": [
       "            1   username\n",
       "268  0.993678  Turn_Left\n",
       "915  0.993161      rav_a\n",
       "170  0.992813  elcunardo"
      ]
     },
     "execution_count": 91,
     "metadata": {},
     "output_type": "execute_result"
    }
   ],
   "source": [
    "#for index, row in top_sim.iterrows():\n",
    "    #print(top_sim.loc[index][1])\n",
    "    #top_sim.loc[index][\"username\"] = df_users.loc[index][1]\n",
    "    \n",
    "top_sim[\"username\"] = df_users.loc[df_users.index]\n",
    "top_sim.head(3)"
   ]
  },
  {
   "cell_type": "code",
   "execution_count": 63,
   "metadata": {},
   "outputs": [
    {
     "name": "stdout",
     "output_type": "stream",
     "text": [
      "Turn_Left 0.9936783645868916 268\n",
      "rav_a 0.9931609898612863 915\n",
      "elcunardo 0.9928130125194303 170\n",
      "throwaway0982340238 0.9927237167887214 607\n",
      "tsac7260 0.9926835730594761 4\n",
      "hamachibarrage 0.9925920716755733 321\n",
      "Letagod 0.9925325537906526 663\n",
      "Hanashinobi2 0.9923668695745234 68\n",
      "Pkoelle6 0.99222493880304 309\n",
      "VitoOo62 0.9922222751329214 240\n",
      "TheVoltaire 0.9921915339097314 751\n",
      "Slavfaka 0.992171344024099 728\n",
      "kardo1234 0.9920351914600495 766\n",
      "Peppa-Jack 0.9919219468633756 732\n",
      "Uncomfortabletruth12 0.9918478513477476 207\n",
      "_tech_throwaway_ 0.9918449894239861 827\n",
      "TrillFlossy 0.9917999383921632 758\n",
      "RonaldKonkoma 0.9917051049249397 516\n",
      "keepitrealcodes 0.9916499146456006 489\n",
      "ThankGodForJustice 0.9916335438997386 954\n",
      "leckmichamarsch89 0.9915123083002158 13\n",
      "skate253 0.9913925749093841 200\n",
      "shanghaibound 0.9911298286663063 906\n",
      "tnav63 0.9910221957591456 178\n",
      "PoopAndScooping 0.9910143081034334 637\n",
      "kouaki 0.9909670337616838 605\n",
      "AtomOfUniverse 0.9909082537763112 552\n",
      "Toklerone45 0.9908990713267356 531\n",
      "SomeRctPlayer 0.9905239528280929 508\n",
      "mmbc2 0.9904736723077783 497\n",
      "Lime_Time 0.9903663000812648 250\n",
      "LuciBoots 0.9901366199290871 918\n",
      "ltzMaatt 0.9899403217328153 819\n",
      "98349891384 0.9898078559368674 493\n",
      "nomnummy 0.9897097758776976 472\n",
      "zacrains 0.9896881145711937 884\n",
      "willisrocks 0.9896242863562797 171\n",
      "callmemrcynical 0.9896002106279342 703\n",
      "katajin31309 0.9893808298161221 581\n",
      "Pat_Oftei 0.9888588163736897 91\n",
      "oibjjknj 0.9885055754863676 630\n",
      "DiametricRegime 0.988123099744804 333\n",
      "9666 0.9876243594051062 412\n",
      "Athronoak 0.987460635095618 802\n",
      "Pkoelle6 0.9872426595165984 780\n",
      "Higher_Res_Bot 0.98711448803632 753\n",
      "stoolcentral 0.9869063892308061 80\n",
      "21_Yeets 0.9862808917686235 868\n",
      "yedragon 0.9862257404199545 678\n",
      "misshiss13 0.985995177539431 182\n",
      "Quittingforreasons 0.9857488421101398 564\n",
      "bellrive8 0.9857273673202587 984\n",
      "Plan9reords 0.9855537816721711 935\n",
      "troudent 0.9853049963219356 49\n",
      "yma2000ln 0.9845957991839872 47\n",
      "catholic13 0.9843805704513422 36\n",
      "TroutClub2016 0.983615476535444 283\n",
      "xxHamybonexx 0.9831415713425051 904\n",
      "yoloswag420kony2012 0.9827918603124756 487\n",
      "zyear27 0.9827413688061243 627\n",
      "marzipanfred 0.9826789771116461 8\n",
      "Hanashinobi2 0.9824270856687237 718\n",
      "canal8 0.9816370647949672 160\n",
      "MrOnigiri 0.9810342377894099 558\n",
      "chhamilton 0.9769329092004555 134\n",
      "Lilith7 0.9767815798655267 776\n",
      "Principino81 0.9753069891428715 946\n",
      "-JayGatsby 0.973485297719963 142\n",
      "ContortionBreaks 0.9727166242898306 982\n",
      "cooliorama 0.9691468597911481 432\n",
      "GalaxyPanda77 0.967779922762455 596\n",
      "Friendlydruggie 0.9672343238519647 877\n",
      "YeagerZGaminG 0.965318542272238 287\n",
      "Therealdudeguykid 0.9614666075765386 991\n",
      "wy100101 0.9605604901567328 519\n",
      "callmemrcynical 0.9573832892824156 963\n",
      "ConnorFroMan 0.9380946849559397 367\n",
      "Bobz79 0.9171725363214578 439\n"
     ]
    }
   ],
   "source": [
    "# print top_sim with user's name that match indexes\n",
    "\"\"\"for index, row in top_sim.iterrows():\n",
    "    print(df_users.iloc[index], row[user_index], index) #return this\"\"\""
   ]
  },
  {
   "cell_type": "code",
   "execution_count": 64,
   "metadata": {},
   "outputs": [
    {
     "data": {
      "text/plain": [
       "Int64Index([1], dtype='int64')"
      ]
     },
     "execution_count": 64,
     "metadata": {},
     "output_type": "execute_result"
    }
   ],
   "source": [
    "top_sim.columns"
   ]
  },
  {
   "cell_type": "code",
   "execution_count": 65,
   "metadata": {},
   "outputs": [
    {
     "data": {
      "text/plain": [
       "0              james5434\n",
       "1           johnnyhotnix\n",
       "2      Opiatethrowaway10\n",
       "3            Bicepticons\n",
       "4               tsac7260\n",
       "             ...        \n",
       "995      DeplorableGiant\n",
       "996      embracehumanity\n",
       "997     gnarkillington20\n",
       "998          Foxiest_Fox\n",
       "999    throwitallaway200\n",
       "Name: result, Length: 1000, dtype: object"
      ]
     },
     "execution_count": 65,
     "metadata": {},
     "output_type": "execute_result"
    }
   ],
   "source": [
    "df_users"
   ]
  },
  {
   "cell_type": "code",
   "execution_count": 66,
   "metadata": {},
   "outputs": [
    {
     "data": {
      "text/plain": [
       "pandas.core.frame.DataFrame"
      ]
     },
     "execution_count": 66,
     "metadata": {},
     "output_type": "execute_result"
    }
   ],
   "source": [
    "type(top_sim)"
   ]
  }
 ],
 "metadata": {
  "kernelspec": {
   "display_name": "gamebuddy-env",
   "language": "python",
   "name": "python3"
  },
  "language_info": {
   "codemirror_mode": {
    "name": "ipython",
    "version": 3
   },
   "file_extension": ".py",
   "mimetype": "text/x-python",
   "name": "python",
   "nbconvert_exporter": "python",
   "pygments_lexer": "ipython3",
   "version": "3.10.9"
  },
  "orig_nbformat": 4
 },
 "nbformat": 4,
 "nbformat_minor": 2
}
